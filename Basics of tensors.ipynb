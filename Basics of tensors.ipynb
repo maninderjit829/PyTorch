{
 "cells": [
  {
   "cell_type": "code",
   "execution_count": 38,
   "id": "015fb6e2",
   "metadata": {},
   "outputs": [],
   "source": [
    "%matplotlib inline"
   ]
  },
  {
   "cell_type": "code",
   "execution_count": 5,
   "id": "7aa8ec9f",
   "metadata": {},
   "outputs": [],
   "source": [
    "import torch\n",
    "##performed pip install torch"
   ]
  },
  {
   "cell_type": "code",
   "execution_count": 4,
   "id": "016b837b",
   "metadata": {},
   "outputs": [],
   "source": [
    "import torch\n",
    "##Tensor API Walkthrough\n",
    "##similar to the idea of ndarrays"
   ]
  },
  {
   "cell_type": "code",
   "execution_count": 3,
   "id": "de8d02ac",
   "metadata": {},
   "outputs": [],
   "source": [
    "import numpy as np\n",
    "##importing"
   ]
  },
  {
   "cell_type": "code",
   "execution_count": 6,
   "id": "23dd0e6d",
   "metadata": {},
   "outputs": [],
   "source": [
    "##Tensor_Initialization"
   ]
  },
  {
   "cell_type": "code",
   "execution_count": 32,
   "id": "a5988d63",
   "metadata": {},
   "outputs": [],
   "source": [
    "data = [[1,2,3],[4,5,6],[7,8,9]]"
   ]
  },
  {
   "cell_type": "code",
   "execution_count": 33,
   "id": "f9d78149",
   "metadata": {},
   "outputs": [
    {
     "name": "stdout",
     "output_type": "stream",
     "text": [
      "[[1, 2, 3], [4, 5, 6], [7, 8, 9]]\n"
     ]
    }
   ],
   "source": [
    "print(data)"
   ]
  },
  {
   "cell_type": "code",
   "execution_count": 28,
   "id": "a3d1e444",
   "metadata": {},
   "outputs": [],
   "source": [
    "t_data = torch.tensor(data)\n",
    "##initializing or creating directly from the \n",
    "##torch.tensor() is a multidimensional matrix containing elements of same data type"
   ]
  },
  {
   "cell_type": "code",
   "execution_count": 36,
   "id": "0568d638",
   "metadata": {},
   "outputs": [
    {
     "name": "stdout",
     "output_type": "stream",
     "text": [
      "tensor([[1, 2, 3],\n",
      "        [4, 5, 6],\n",
      "        [7, 8, 9]])\n"
     ]
    }
   ],
   "source": [
    "print(t_data)"
   ]
  },
  {
   "cell_type": "code",
   "execution_count": 29,
   "id": "df6d3df9",
   "metadata": {},
   "outputs": [],
   "source": [
    "##tensor can be created from NumPy arrays and NumPy array can be created from tensors"
   ]
  },
  {
   "cell_type": "code",
   "execution_count": 30,
   "id": "7089ee5d",
   "metadata": {},
   "outputs": [],
   "source": [
    "np_array = np.array(data)"
   ]
  },
  {
   "cell_type": "code",
   "execution_count": 77,
   "id": "147a1d4a",
   "metadata": {},
   "outputs": [
    {
     "name": "stdout",
     "output_type": "stream",
     "text": [
      "[[ 16  32  48]\n",
      " [ 64  80  96]\n",
      " [112 128 144]]\n"
     ]
    }
   ],
   "source": [
    "print(np_array)\n"
   ]
  },
  {
   "cell_type": "code",
   "execution_count": 78,
   "id": "db3da8ae",
   "metadata": {},
   "outputs": [],
   "source": [
    "np_array = np.array(data)"
   ]
  },
  {
   "cell_type": "code",
   "execution_count": 73,
   "id": "ac712cd4",
   "metadata": {},
   "outputs": [],
   "source": [
    "t_data = torch.tensor(data)"
   ]
  },
  {
   "cell_type": "code",
   "execution_count": 74,
   "id": "890a5c7b",
   "metadata": {},
   "outputs": [],
   "source": [
    "numpy_array = torch.from_numpy(np_array)\n",
    "##In the above, np_array and numpy_array shares the same address location\n",
    "##change in one will change the value of another"
   ]
  },
  {
   "cell_type": "code",
   "execution_count": 69,
   "id": "66e76cb2",
   "metadata": {},
   "outputs": [],
   "source": [
    "##print ndarrays"
   ]
  },
  {
   "cell_type": "code",
   "execution_count": 75,
   "id": "77a6d7e0",
   "metadata": {},
   "outputs": [
    {
     "name": "stdout",
     "output_type": "stream",
     "text": [
      "values in numpy tensor array: \n",
      "tensor([[ 16,  32,  48],\n",
      "        [ 64,  80,  96],\n",
      "        [112, 128, 144]])\n"
     ]
    }
   ],
   "source": [
    "print(f\"values in numpy tensor array: \\n{numpy_array}\")"
   ]
  },
  {
   "cell_type": "code",
   "execution_count": 71,
   "id": "b55faa14",
   "metadata": {},
   "outputs": [
    {
     "name": "stdout",
     "output_type": "stream",
     "text": [
      "Values in np array: \n",
      "[[ 8 16 24]\n",
      " [32 40 48]\n",
      " [56 64 72]]\n",
      "\n"
     ]
    }
   ],
   "source": [
    "print(f\"Values in np array: \\n{np_array}\\n\")"
   ]
  },
  {
   "cell_type": "code",
   "execution_count": 72,
   "id": "6603ac05",
   "metadata": {},
   "outputs": [
    {
     "data": {
      "text/plain": [
       "array([[ 16,  32,  48],\n",
       "       [ 64,  80,  96],\n",
       "       [112, 128, 144]])"
      ]
     },
     "execution_count": 72,
     "metadata": {},
     "output_type": "execute_result"
    }
   ],
   "source": [
    "np.multiply(np_array,2, out = np_array)"
   ]
  },
  {
   "cell_type": "code",
   "execution_count": 76,
   "id": "fe57ac4e",
   "metadata": {},
   "outputs": [
    {
     "name": "stdout",
     "output_type": "stream",
     "text": [
      "2 X Values of array initialized with tensor\n",
      "tensor([[ 16,  32,  48],\n",
      "        [ 64,  80,  96],\n",
      "        [112, 128, 144]])\n",
      "\n"
     ]
    }
   ],
   "source": [
    "print(f\"2 X Values of array initialized with tensor\\n{numpy_array}\\n\")"
   ]
  },
  {
   "cell_type": "code",
   "execution_count": 79,
   "id": "e1bbae25",
   "metadata": {},
   "outputs": [],
   "source": [
    "test = [[9,12,11],[5,10,55]]"
   ]
  },
  {
   "cell_type": "code",
   "execution_count": 80,
   "id": "3ab56487",
   "metadata": {},
   "outputs": [],
   "source": [
    "np_test = np.array(test) "
   ]
  },
  {
   "cell_type": "code",
   "execution_count": 81,
   "id": "013bc2fd",
   "metadata": {},
   "outputs": [],
   "source": [
    "tensor_test = torch.tensor(test)"
   ]
  },
  {
   "cell_type": "code",
   "execution_count": 85,
   "id": "072cdffc",
   "metadata": {},
   "outputs": [],
   "source": [
    "numpy_test = torch.from_numpy(np_test)"
   ]
  },
  {
   "cell_type": "code",
   "execution_count": 86,
   "id": "87e2fac6",
   "metadata": {},
   "outputs": [
    {
     "name": "stdout",
     "output_type": "stream",
     "text": [
      "\n",
      "tensor([[ 9, 12, 11],\n",
      "        [ 5, 10, 55]])\n",
      "\n"
     ]
    }
   ],
   "source": [
    "print(f\"\\n{numpy_test}\\n\")"
   ]
  },
  {
   "cell_type": "code",
   "execution_count": 87,
   "id": "2258ba64",
   "metadata": {},
   "outputs": [
    {
     "name": "stdout",
     "output_type": "stream",
     "text": [
      "\n",
      "[[ 9 12 11]\n",
      " [ 5 10 55]]\n",
      "\n"
     ]
    }
   ],
   "source": [
    "print(f\"\\n{np_test}\\n\")"
   ]
  },
  {
   "cell_type": "code",
   "execution_count": 88,
   "id": "46899f14",
   "metadata": {},
   "outputs": [
    {
     "name": "stdout",
     "output_type": "stream",
     "text": [
      "\n",
      "tensor([[ 9, 12, 11],\n",
      "        [ 5, 10, 55]])\n",
      "\n"
     ]
    }
   ],
   "source": [
    "print(f\"\\n{tensor_test}\\n\")"
   ]
  },
  {
   "cell_type": "code",
   "execution_count": 89,
   "id": "6b924d4b",
   "metadata": {},
   "outputs": [],
   "source": [
    "np_test = np.multiply(np_test, 2, out = np_test)"
   ]
  },
  {
   "cell_type": "code",
   "execution_count": 90,
   "id": "091e0ed0",
   "metadata": {},
   "outputs": [
    {
     "name": "stdout",
     "output_type": "stream",
     "text": [
      "\n",
      "[[ 18  24  22]\n",
      " [ 10  20 110]]\n",
      "\n"
     ]
    }
   ],
   "source": [
    "print(f\"\\n{np_test}\\n\")"
   ]
  },
  {
   "cell_type": "code",
   "execution_count": 91,
   "id": "f89802ee",
   "metadata": {},
   "outputs": [
    {
     "name": "stdout",
     "output_type": "stream",
     "text": [
      "\n",
      "tensor([[ 18,  24,  22],\n",
      "        [ 10,  20, 110]])\n",
      "\n"
     ]
    }
   ],
   "source": [
    "print(f\"\\n{numpy_test}\\n\")"
   ]
  },
  {
   "cell_type": "code",
   "execution_count": 92,
   "id": "802ea485",
   "metadata": {},
   "outputs": [],
   "source": [
    "numpy_test_ones = torch.ones_like(numpy_test)"
   ]
  },
  {
   "cell_type": "code",
   "execution_count": 93,
   "id": "5222ecc4",
   "metadata": {},
   "outputs": [
    {
     "name": "stdout",
     "output_type": "stream",
     "text": [
      "{numpy_test_ones}\n"
     ]
    }
   ],
   "source": [
    "print(\"{numpy_test_ones}\")"
   ]
  },
  {
   "cell_type": "code",
   "execution_count": 94,
   "id": "1ae4c5a0",
   "metadata": {},
   "outputs": [
    {
     "name": "stdout",
     "output_type": "stream",
     "text": [
      "\n",
      "{numpy_test_ones}\n",
      "\n"
     ]
    }
   ],
   "source": [
    "print(\"\\n{numpy_test_ones}\\n\")"
   ]
  },
  {
   "cell_type": "code",
   "execution_count": 95,
   "id": "b3e5a13b",
   "metadata": {},
   "outputs": [
    {
     "name": "stdout",
     "output_type": "stream",
     "text": [
      "\n",
      "tensor([[1, 1, 1],\n",
      "        [1, 1, 1]])\n",
      "\n"
     ]
    }
   ],
   "source": [
    "print(f\"\\n{numpy_test_ones}\\n\")"
   ]
  },
  {
   "cell_type": "code",
   "execution_count": 96,
   "id": "f7f70749",
   "metadata": {},
   "outputs": [],
   "source": [
    "numpy_test_ones = torch.ones_like(numpy_test)"
   ]
  },
  {
   "cell_type": "code",
   "execution_count": 97,
   "id": "6b988833",
   "metadata": {},
   "outputs": [
    {
     "name": "stdout",
     "output_type": "stream",
     "text": [
      "\n",
      "tensor([[1, 1, 1],\n",
      "        [1, 1, 1]])\n",
      "\n"
     ]
    }
   ],
   "source": [
    "print(f\"\\n{numpy_test_ones}\\n\")"
   ]
  },
  {
   "cell_type": "code",
   "execution_count": 99,
   "id": "05ce6aae",
   "metadata": {},
   "outputs": [],
   "source": [
    "numpy_test_rand = torch.rand_like(numpy_test, dtype = torch.float)"
   ]
  },
  {
   "cell_type": "code",
   "execution_count": 100,
   "id": "51ec6b54",
   "metadata": {},
   "outputs": [
    {
     "name": "stdout",
     "output_type": "stream",
     "text": [
      "\n",
      "tensor([[0.9352, 0.8926, 0.2191],\n",
      "        [0.3292, 0.5328, 0.9129]])\n",
      "\n"
     ]
    }
   ],
   "source": [
    "print(f\"\\n{numpy_test_rand}\\n\")"
   ]
  },
  {
   "cell_type": "code",
   "execution_count": 102,
   "id": "c265aa1b",
   "metadata": {},
   "outputs": [],
   "source": [
    "##Tensor defined by a shape\n",
    "##Tensors of constant value\n",
    "## where shape - a tuple is an argument"
   ]
  },
  {
   "cell_type": "code",
   "execution_count": 103,
   "id": "6da8c6a2",
   "metadata": {},
   "outputs": [],
   "source": [
    "shape = (3,3)"
   ]
  },
  {
   "cell_type": "code",
   "execution_count": 104,
   "id": "c7435ce1",
   "metadata": {},
   "outputs": [],
   "source": [
    "rand_tensor = torch.rand(shape)"
   ]
  },
  {
   "cell_type": "code",
   "execution_count": 105,
   "id": "4a01cda7",
   "metadata": {},
   "outputs": [
    {
     "name": "stdout",
     "output_type": "stream",
     "text": [
      "\n",
      "tensor([[0.7333, 0.7434, 0.2898],\n",
      "        [0.6578, 0.7246, 0.3715],\n",
      "        [0.1257, 0.5487, 0.2145]])\n",
      "\n"
     ]
    }
   ],
   "source": [
    "print(f\"\\n{rand_tensor}\\n\")"
   ]
  },
  {
   "cell_type": "code",
   "execution_count": 106,
   "id": "be269018",
   "metadata": {},
   "outputs": [],
   "source": [
    "ones_tensor = torch.ones(shape)"
   ]
  },
  {
   "cell_type": "code",
   "execution_count": 107,
   "id": "84f778e7",
   "metadata": {},
   "outputs": [
    {
     "name": "stdout",
     "output_type": "stream",
     "text": [
      "\n",
      "tensor([[1., 1., 1.],\n",
      "        [1., 1., 1.],\n",
      "        [1., 1., 1.]])\n",
      "\n"
     ]
    }
   ],
   "source": [
    "print(f\"\\n{ones_tensor}\\n\")"
   ]
  },
  {
   "cell_type": "code",
   "execution_count": 109,
   "id": "360e4f29",
   "metadata": {},
   "outputs": [],
   "source": [
    "zero_tensor = torch.zeros(shape)"
   ]
  },
  {
   "cell_type": "code",
   "execution_count": 111,
   "id": "562b5d09",
   "metadata": {},
   "outputs": [
    {
     "name": "stdout",
     "output_type": "stream",
     "text": [
      "\n",
      "tensor([[0., 0., 0.],\n",
      "        [0., 0., 0.],\n",
      "        [0., 0., 0.]])\n",
      "\n"
     ]
    }
   ],
   "source": [
    "print(f\"\\n{zero_tensor}\\n\")"
   ]
  },
  {
   "cell_type": "code",
   "execution_count": null,
   "id": "66898b49",
   "metadata": {},
   "outputs": [],
   "source": []
  }
 ],
 "metadata": {
  "kernelspec": {
   "display_name": "Python 3 (ipykernel)",
   "language": "python",
   "name": "python3"
  },
  "language_info": {
   "codemirror_mode": {
    "name": "ipython",
    "version": 3
   },
   "file_extension": ".py",
   "mimetype": "text/x-python",
   "name": "python",
   "nbconvert_exporter": "python",
   "pygments_lexer": "ipython3",
   "version": "3.10.0"
  }
 },
 "nbformat": 4,
 "nbformat_minor": 5
}
